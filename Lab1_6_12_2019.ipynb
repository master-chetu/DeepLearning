{
 "cells": [
  {
   "cell_type": "code",
   "execution_count": 1,
   "metadata": {},
   "outputs": [
    {
     "name": "stdout",
     "output_type": "stream",
     "text": [
      "Shakespeare gave the best theartrics to the world.\n"
     ]
    }
   ],
   "source": [
    "a = 'Shakespeare gave the best theartrics to the world.'\n",
    "print(a)"
   ]
  },
  {
   "cell_type": "code",
   "execution_count": 3,
   "metadata": {},
   "outputs": [
    {
     "name": "stdout",
     "output_type": "stream",
     "text": [
      "The most famous don'tclassic short Shakespeare stories by Edith Nesbit include Romeo & Juliet, Macbeth, Hamlet, Othello, Measure for Measure, The Merchant of Venice, Two Gentlemen of Verona and King Lear. These famous Shakespeare Tales and Stories have been included along with some lesser known, but equally enjoyable great tales.\n"
     ]
    }
   ],
   "source": [
    "para = '''The most famous don'tclassic short Shakespeare stories by Edith Nesbit include Romeo & Juliet, Macbeth, Hamlet, Othello, Measure for Measure, The Merchant of Venice, Two Gentlemen of Verona and King Lear. These famous Shakespeare Tales and Stories have been included along with some lesser known, but equally enjoyable great tales.'''\n",
    "print(para)"
   ]
  },
  {
   "cell_type": "code",
   "execution_count": 4,
   "metadata": {},
   "outputs": [
    {
     "name": "stdout",
     "output_type": "stream",
     "text": [
      "London, Paris, milan, barcelona, amesterdam, manchester, cardiff, glasgow, pitburg, italy\n"
     ]
    }
   ],
   "source": [
    "cities = \"London, Paris, milan, barcelona, amesterdam, manchester, cardiff, glasgow, pitburg, italy\"\n",
    "print(cities)"
   ]
  },
  {
   "cell_type": "code",
   "execution_count": 5,
   "metadata": {},
   "outputs": [
    {
     "name": "stdout",
     "output_type": "stream",
     "text": [
      "['London', ' Paris', ' milan', ' barcelona', ' amesterdam', ' manchester', ' cardiff', ' glasgow', ' pitburg', ' italy']\n"
     ]
    }
   ],
   "source": [
    "city = cities.split(',')\n",
    "print(city)"
   ]
  },
  {
   "cell_type": "code",
   "execution_count": 6,
   "metadata": {},
   "outputs": [
    {
     "name": "stdout",
     "output_type": "stream",
     "text": [
      " barcelona\n"
     ]
    }
   ],
   "source": [
    "print(city[3])"
   ]
  },
  {
   "cell_type": "code",
   "execution_count": 7,
   "metadata": {},
   "outputs": [],
   "source": [
    "city.append('tuscani')"
   ]
  },
  {
   "cell_type": "code",
   "execution_count": 11,
   "metadata": {},
   "outputs": [
    {
     "name": "stdout",
     "output_type": "stream",
     "text": [
      "{'cricket': 'mithali raj', 'badminton': 'sreekanth', 'tennis': 'Nadal', 'Chess': 'v.anand'}\n"
     ]
    }
   ],
   "source": [
    "sportmen = {\n",
    "    \"cricket\" : \"virat kohli\",\n",
    "    \"cricket\" : \"mithali raj\",\n",
    "    \"badminton\" : \"sreekanth\",\n",
    "    \"tennis\" : \"Nadal\",\n",
    "    \"Chess\" : \"v.anand\"\n",
    "}\n",
    "print(sportmen)"
   ]
  },
  {
   "cell_type": "code",
   "execution_count": 12,
   "metadata": {},
   "outputs": [
    {
     "data": {
      "text/plain": [
       "'sreekanth'"
      ]
     },
     "execution_count": 12,
     "metadata": {},
     "output_type": "execute_result"
    }
   ],
   "source": [
    "sportmen.get(\"badminton\")"
   ]
  },
  {
   "cell_type": "code",
   "execution_count": 15,
   "metadata": {},
   "outputs": [
    {
     "name": "stdout",
     "output_type": "stream",
     "text": [
      "(105, 106, 345, 234, 'mgb')\n"
     ]
    }
   ],
   "source": [
    "t = 105,106,345,234,'mgb'\n",
    "print(t)"
   ]
  },
  {
   "cell_type": "code",
   "execution_count": null,
   "metadata": {},
   "outputs": [],
   "source": []
  }
 ],
 "metadata": {
  "kernelspec": {
   "display_name": "Python 3",
   "language": "python",
   "name": "python3"
  },
  "language_info": {
   "codemirror_mode": {
    "name": "ipython",
    "version": 3
   },
   "file_extension": ".py",
   "mimetype": "text/x-python",
   "name": "python",
   "nbconvert_exporter": "python",
   "pygments_lexer": "ipython3",
   "version": "3.7.4"
  }
 },
 "nbformat": 4,
 "nbformat_minor": 2
}
